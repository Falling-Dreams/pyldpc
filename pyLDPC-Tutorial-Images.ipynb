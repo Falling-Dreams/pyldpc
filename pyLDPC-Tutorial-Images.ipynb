{
 "cells": [
  {
   "cell_type": "markdown",
   "metadata": {},
   "source": [
    "<h1 align=\"center\"> pyLDPC Tutorial: Images </h1>\n"
   ]
  },
  {
   "cell_type": "markdown",
   "metadata": {
    "collapsed": false
   },
   "source": [
    "## update:  02/25/16 - v.0.7.0\n",
    "\n",
    "<b><font color=\"red\"> Since version 0.7: Coding and decoding functions take tG (Transposed G) instead of G, the coding matrix. Functions that construct it (CodingMatrix and CodingMatrix_systematic) return tG instead of G as well. </font></b> \n",
    "\n",
    "<br>\n",
    "<b><font color=\"blue\"> New functions/sections are indicated in blue </font></b>\n",
    "\n",
    "\n",
    "\n",
    "This notebook introduces a user's guide of pyLDPC's sub-module Images: ldpc_images.\n",
    "If you would like to know what each function does and go into the construction details, go to <a href=\"http://nbviewer.jupyter.org/github/janatiH/pyldpc/blob/master/pyLDPC-Images-Construction.ipynb?flush_cache=true/\"> LDPC-Images Construction Details</a>\n",
    "\n",
    "\n",
    "<font color=\"blue\"><h2> Outline:</h2></font> \n",
    "<font color=\"blue\"><h2> --------------------------------------------------</h2></font> \n",
    "\n",
    "**I. Using small matrices: Pixel by pixel coding & decoding**\n",
    "\n",
    "<font color=\"green\"><i>(3 times faster compared to v0.6)</i></font>\n",
    "\n",
    "      1.Grayscale Images.\n",
    "      2.RGB Images. \n",
    " \n",
    "**II. Using large matrices: row by row coding & decoding**\n",
    "\n",
    "      1. scipy.sparse CSR objects.\n",
    "      2. Codign & decoding.\n",
    "      3. About matrices construction.\n",
    "\n",
    "<font color=\"blue\"><i>(more efficient with low SNRs)</i></font>\n",
    "      \n",
    "**III. Conclusion **\n",
    "<font color=\"blue\"><h2> --------------------------------------------------</h2></font> \n",
    "\n",
    "We'll consider 2 types of images in this tutorial:\n",
    "\n",
    "- Grayscale images: Images whean read by cv2.imread(), are seen as 2D arrays. Each pixel is a uint8 number (0-255). \n",
    "- RGB Images: Images that are seen as 3D arrays. Each pixel is an RGB array of 3 uint8 numbers ( [R,G,B] ). \n"
   ]
  },
  {
   "cell_type": "code",
   "execution_count": 1,
   "metadata": {
    "collapsed": true
   },
   "outputs": [],
   "source": [
    "import numpy as np\n",
    "from IPython.display import display, HTML\n",
    "import pyldpc\n",
    "from pyldpc import ldpc_images\n",
    "import cv2 \n",
    "from time import time"
   ]
  },
  {
   "cell_type": "markdown",
   "metadata": {},
   "source": [
    "\n",
    "If I had to sum up Images Coding and decoding in a few words, I'd sat:\n",
    "\n",
    "1. Read the image [2D-array if grayscale, 3D-array if RGB]. \n",
    "2. Make coding and decoding matrices G and H.\n",
    "3. Binarize the image [Using functions we'll see later].\n",
    "4. Apply Coding function to binary image.\n",
    "5. Apply Decoding function to Coded image. \n",
    "\n",
    "We'll go step by step 1 through 5 for both grayscale and RGB Images.\n",
    "\n",
    "# I - Pixel by pixel: small matrices\n",
    "\n",
    "Picture the image as a huge array of uint8 numbers (meaning, **u** for unsigned (positive) **int** for integer and 8 for 8 binary bits, which means that the number is lower than 2^7). \n",
    "\n",
    "If the image is grayscale, each pixel equals one uint8 number. The image is therefore read as a 2D-array. \n",
    "If the image is colorful, each pixel equals a tuple of 3 uint8 numbers (one for each color, Red Green Blue). The image is therefore a 3D-array, the third dimension being equal to 3. \n",
    "\n",
    "Pixel by pixel coding is done by coding and decoding one pixel at a time:\n",
    "\n",
    "- If the image is grayscale, we write each pixel as a 8-sized binary array and pass it to coding and decoding functions. \n",
    "- If the image is RGB, each pixel is written as a 24-sizes binary array as passed to coding and decoding functions.\n",
    "\n",
    "So now you see:\n",
    "- For **Gray** Images, the size of messages is 8, G must have 8 rows.\n",
    "- For **RGB** Images, the size of messages is 24, G must have 24 rows."
   ]
  },
  {
   "cell_type": "markdown",
   "metadata": {},
   "source": [
    "\n",
    "## I -1 Grayscale: \n",
    "\n",
    "Let's code and decode the grayscale image: <img src=\"Images/eye.png\"> \n",
    "Generate the matrices. <b>Make sure G has <u>8</u> rows for <u>grayscale</u> images.</b>*\n",
    "\n",
    "* *Details about how to choose matrices parameters <a href=\"http://nbviewer.jupyter.org/github/janatiH/pyldpc/blob/master/pyLDPC-Tutorial-Matrices.ipynb?flush_cache=true/\">here </a>, but I recommand going through this tutorial and using the matrices defined hereby for now, and then optimize your coding & decoding by changing the matrices.*"
   ]
  },
  {
   "cell_type": "code",
   "execution_count": 19,
   "metadata": {
    "collapsed": false
   },
   "outputs": [
    {
     "data": {
      "text/plain": [
       "(24, 8)"
      ]
     },
     "execution_count": 19,
     "metadata": {},
     "output_type": "execute_result"
    }
   ],
   "source": [
    "n = 24\n",
    "d_c = 4\n",
    "d_v = 3\n",
    "H = pyldpc.RegularH(n,d_v,d_c)\n",
    "H,tG= pyldpc.CodingMatrix_systematic(H)\n",
    "tG.shape\n"
   ]
  },
  {
   "cell_type": "markdown",
   "metadata": {},
   "source": [
    "Load the image using cv2.imread:\n",
    "\n",
    "<b><font color=\"red\"> imread's second argument is important: 0 for grayscale images. If not mentioned, imread will read the image as an RGB image return a 3D-array which will cause errors in coding if a grayscale matrix is used! </font></b> "
   ]
  },
  {
   "cell_type": "code",
   "execution_count": 8,
   "metadata": {
    "collapsed": true
   },
   "outputs": [],
   "source": [
    "eye = cv2.imread(\"Images/eye.png\",0)"
   ]
  },
  {
   "cell_type": "markdown",
   "metadata": {},
   "source": [
    "Transform image format from np.uint8 to binary: "
   ]
  },
  {
   "cell_type": "code",
   "execution_count": 9,
   "metadata": {
    "collapsed": false
   },
   "outputs": [],
   "source": [
    "eye_bin = ldpc_images.Gray2Bin(eye)"
   ]
  },
  {
   "cell_type": "markdown",
   "metadata": {},
   "source": [
    "Code and send binary image eye_bin through a channel with:\n",
    "\n",
    "- SNR = 6 db\n"
   ]
  },
  {
   "cell_type": "code",
   "execution_count": 20,
   "metadata": {
    "collapsed": false
   },
   "outputs": [],
   "source": [
    "code = 1\n",
    "\n",
    "if code:\n",
    "    snr = 6\n",
    "    eye_coded_6,eye_noisy_6 = ldpc_images.ImageCoding(tG,eye_bin,snr)\n",
    "\n",
    "    ## Save the image locally: \n",
    "    cv2.imwrite(\"Images/eye/grayscale/snr=6/eye_noisy.jpg\",eye_noisy_6)\n"
   ]
  },
  {
   "cell_type": "markdown",
   "metadata": {},
   "source": [
    "### Let's have a look at  the noisy pictures:\n",
    "\n",
    "### Channel AWGN snr = 6 db.\n"
   ]
  },
  {
   "cell_type": "code",
   "execution_count": 11,
   "metadata": {
    "collapsed": false
   },
   "outputs": [
    {
     "data": {
      "text/html": [
       "<img src=\"Images/eye/grayscale/snr=6/eye_noisy.jpg\">"
      ],
      "text/plain": [
       "<IPython.core.display.HTML object>"
      ]
     },
     "metadata": {},
     "output_type": "display_data"
    }
   ],
   "source": [
    "display(HTML('''<img src=\"Images/eye/grayscale/snr=6/eye_noisy.jpg\">'''))\n"
   ]
  },
  {
   "cell_type": "markdown",
   "metadata": {},
   "source": [
    "Let's compare the original picture to the noisy one: "
   ]
  },
  {
   "cell_type": "code",
   "execution_count": 13,
   "metadata": {
    "collapsed": false
   },
   "outputs": [
    {
     "data": {
      "text/html": [
       "<img src=\"Images/eye/grayscale/snr=6/eye_compare_noisy_original.jpg\">"
      ],
      "text/plain": [
       "<IPython.core.display.HTML object>"
      ]
     },
     "metadata": {},
     "output_type": "display_data"
    }
   ],
   "source": [
    "eye_compare_noisy_orginal_6 = np.concatenate((eye,eye_noisy_6),axis=1) \n",
    "cv2.imwrite(\"Images/eye/grayscale/snr=6/eye_compare_noisy_original.jpg\",eye_compare_noisy_orginal_6)\n",
    "display(HTML('''<img src=\"Images/eye/grayscale/snr=6/eye_compare_noisy_original.jpg\">'''))\n"
   ]
  },
  {
   "cell_type": "markdown",
   "metadata": {},
   "source": [
    "### Decoding (Full-log BP):\n",
    "And now, let's decode:\n",
    "\n",
    "<font color=#A44057> Warning ! Decoding takes time depending on the image's size and the matrices' size. (128 x 128) grayscale image (like this one) decoding may last for about 30 seconds! </font>\n",
    "\n",
    "\n",
    "\n",
    "> Iteration number: 1"
   ]
  },
  {
   "cell_type": "code",
   "execution_count": 21,
   "metadata": {
    "collapsed": false
   },
   "outputs": [
    {
     "name": "stdout",
     "output_type": "stream",
     "text": [
      "Decoding time for 1 iterations and snr = 6:  23.89686679840088\n"
     ]
    },
    {
     "data": {
      "text/html": [
       "<img src=\"Images/eye/grayscale/snr=6/iterations/eye_iter1.jpg\">"
      ],
      "text/plain": [
       "<IPython.core.display.HTML object>"
      ]
     },
     "metadata": {},
     "output_type": "display_data"
    },
    {
     "name": "stdout",
     "output_type": "stream",
     "text": [
      "Bit Error Rate in %: 0.102233886719 %\n"
     ]
    }
   ],
   "source": [
    "decode = 1\n",
    "\n",
    "max_iter= 1\n",
    "snr = 6\n",
    "if decode:\n",
    "    t = time()\n",
    "    eye_decoded_6 = ldpc_images.ImageDecoding(tG,H,eye_coded_6,snr,max_iter)\n",
    "    cv2.imwrite(\"Images/eye/grayscale/snr=6/iterations/eye_iter\"+str(max_iter)+\".jpg\",eye_decoded_6)\n",
    "    t = time() - t\n",
    "    print(\"Decoding time for {} iterations and snr = {}: \".format(max_iter,snr),t) \n",
    "    display(HTML('''<img src=\"Images/eye/grayscale/snr=6/iterations/eye_iter'''+str(max_iter)+'''.jpg\">'''))\n",
    "print(\"Bit Error Rate in %:\", 100*ldpc_images.BER(eye_bin,ldpc_images.Gray2Bin(eye_decoded_6)),\"%\")"
   ]
  },
  {
   "cell_type": "markdown",
   "metadata": {},
   "source": [
    "The decoding is not error-free, let's increment our decoding loop to 10 iterations: "
   ]
  },
  {
   "cell_type": "code",
   "execution_count": 22,
   "metadata": {
    "collapsed": false
   },
   "outputs": [
    {
     "name": "stdout",
     "output_type": "stream",
     "text": [
      "Decoding time for 10 iterations and snr = 6:  27.30986499786377\n"
     ]
    },
    {
     "data": {
      "text/html": [
       "<img src=\"Images/eye/grayscale/snr=6/iterations/eye_iter10.jpg\">"
      ],
      "text/plain": [
       "<IPython.core.display.HTML object>"
      ]
     },
     "metadata": {},
     "output_type": "display_data"
    },
    {
     "name": "stdout",
     "output_type": "stream",
     "text": [
      "Bit Error Rate in %: 0.0 %\n"
     ]
    }
   ],
   "source": [
    "decode = 1\n",
    "\n",
    "max_iter= 10\n",
    "snr = 6\n",
    "if decode:\n",
    "    t = time()\n",
    "    eye_decoded_6 = ldpc_images.ImageDecoding(tG,H,eye_coded_6,snr,max_iter)\n",
    "    cv2.imwrite(\"Images/eye/grayscale/snr=6/iterations/eye_iter\"+str(max_iter)+\".jpg\",eye_decoded_6)\n",
    "    t = time() - t\n",
    "    print(\"Decoding time for {} iterations and snr = {}: \".format(max_iter,snr),t) \n",
    "    display(HTML('''<img src=\"Images/eye/grayscale/snr=6/iterations/eye_iter'''+str(max_iter)+'''.jpg\">'''))\n",
    "print(\"Bit Error Rate in %:\", 100*ldpc_images.BER(eye_bin,ldpc_images.Gray2Bin(eye_decoded_6)),\"%\")"
   ]
  },
  {
   "cell_type": "markdown",
   "metadata": {},
   "source": [
    "Decoding is errror-free, let's compare the noisy image to the decoded one: (original on the left)"
   ]
  },
  {
   "cell_type": "code",
   "execution_count": 13,
   "metadata": {
    "collapsed": false
   },
   "outputs": [
    {
     "data": {
      "text/html": [
       "<img src=\"Images/eye/grayscale/snr=6/eye_compare_decoded_noisy_6.jpg\">"
      ],
      "text/plain": [
       "<IPython.core.display.HTML object>"
      ]
     },
     "metadata": {},
     "output_type": "display_data"
    }
   ],
   "source": [
    "eye_compare_decoded_noisy_6 = np.concatenate((eye_noisy_6[:,:eye.shape[1]],eye_decoded_6),axis=1) \n",
    "cv2.imwrite(\"Images/eye/grayscale/snr=6/eye_compare_decoded_noisy_6.jpg\",eye_compare_decoded_noisy_6)\n",
    "display(HTML('''<img src=\"Images/eye/grayscale/snr=6/eye_compare_decoded_noisy_6.jpg\">'''))\n"
   ]
  },
  {
   "cell_type": "markdown",
   "metadata": {
    "collapsed": true
   },
   "source": [
    "## I-2  RGB Images\n",
    "<img src=\"Images/oeil.png\"> \n",
    "\n",
    "Make sure Coding Matrix has 24 rows for RGB images*:\n",
    "\n",
    "* *Details about matrices construction <a href=\"http://nbviewer.jupyter.org/github/janatiH/pyldpc/blob/master/pyLDPC-Tutorial-Matrices.ipynb?flush_cache=true/\">here </a>*"
   ]
  },
  {
   "cell_type": "code",
   "execution_count": 34,
   "metadata": {
    "collapsed": false
   },
   "outputs": [
    {
     "data": {
      "text/plain": [
       "(88, 24)"
      ]
     },
     "execution_count": 34,
     "metadata": {},
     "output_type": "execute_result"
    }
   ],
   "source": [
    "n = 88\n",
    "d_c = 4\n",
    "d_v = 3\n",
    "H = pyldpc.RegularH(n,d_v,d_c)\n",
    "H,tG= pyldpc.CodingMatrix_systematic(H)\n",
    "tG.shape"
   ]
  },
  {
   "cell_type": "code",
   "execution_count": 24,
   "metadata": {
    "collapsed": false
   },
   "outputs": [
    {
     "name": "stdout",
     "output_type": "stream",
     "text": [
      "Shape of RGB image: (128, 128, 3)\n",
      "Shape of Binary RGB image: (128, 128, 24)\n"
     ]
    }
   ],
   "source": [
    "rgbeye = cv2.imread(\"Images/oeil.png\",1)\n",
    "print(\"Shape of RGB image:\",rgbeye.shape)\n",
    "rgbeye_bin = ldpc_images.RGB2Bin(rgbeye)\n",
    "print(\"Shape of Binary RGB image:\",rgbeye_bin.shape)\n"
   ]
  },
  {
   "cell_type": "markdown",
   "metadata": {},
   "source": [
    "### Coding : SNR = 6"
   ]
  },
  {
   "cell_type": "code",
   "execution_count": 35,
   "metadata": {
    "collapsed": false
   },
   "outputs": [],
   "source": [
    "code = 1\n",
    "\n",
    "if code:\n",
    "    snr = 6\n",
    "    rgbeye_coded_6,rgbeye_noisy_6 = ldpc_images.ImageCoding(tG,rgbeye_bin,snr)\n",
    "\n",
    "    ## Save the image locally: \n",
    "    cv2.imwrite(\"Images/eye/rgb/snr=6/eye_noisy.jpg\",rgbeye_noisy_6)\n"
   ]
  },
  {
   "cell_type": "markdown",
   "metadata": {},
   "source": [
    "Noisy Image: "
   ]
  },
  {
   "cell_type": "code",
   "execution_count": 17,
   "metadata": {
    "collapsed": false
   },
   "outputs": [
    {
     "data": {
      "text/html": [
       "<img src=\"Images/eye/rgb/snr=6/eye_noisy.jpg\">"
      ],
      "text/plain": [
       "<IPython.core.display.HTML object>"
      ]
     },
     "metadata": {},
     "output_type": "display_data"
    }
   ],
   "source": [
    "display(HTML('''<img src=\"Images/eye/rgb/snr=6/eye_noisy.jpg\">'''))"
   ]
  },
  {
   "cell_type": "markdown",
   "metadata": {},
   "source": [
    "### Decoding "
   ]
  },
  {
   "cell_type": "markdown",
   "metadata": {},
   "source": [
    "Let's try one iteration of Full-log BP decoding:\n",
    "\n",
    "<font color=#A44057> <b> Warning !</b> <br>\n",
    "Decoding takes time depending on the image's size and number of iterations max_iter. (128 x 128) RGB image (like this one) decoding may last for 1 to 5 minutes depending on the size of the matrices and their sparsness properties ! </font> \n",
    "\n",
    "\n"
   ]
  },
  {
   "cell_type": "code",
   "execution_count": 36,
   "metadata": {
    "collapsed": false
   },
   "outputs": [
    {
     "name": "stdout",
     "output_type": "stream",
     "text": [
      "Decoding time for 1 iterations and snr = 6:  92.55027103424072\n"
     ]
    },
    {
     "data": {
      "text/html": [
       "<img src=\"Images/eye/rgb/snr=6/iterations/eye_iter1.jpg\">"
      ],
      "text/plain": [
       "<IPython.core.display.HTML object>"
      ]
     },
     "metadata": {},
     "output_type": "display_data"
    },
    {
     "name": "stdout",
     "output_type": "stream",
     "text": [
      "Bit Error Rate in %: 0.0762939453125 %\n"
     ]
    }
   ],
   "source": [
    "decode = 1\n",
    "\n",
    "max_iter= 1\n",
    "snr = 6\n",
    "if decode:\n",
    "    t = time()\n",
    "    rgbeye_decoded_6 = ldpc_images.ImageDecoding(tG,H,rgbeye_coded_6,snr,max_iter)\n",
    "    cv2.imwrite(\"Images/eye/rgb/snr=6/iterations/eye_iter\"+str(max_iter)+\".jpg\",rgbeye_decoded_6)\n",
    "    t = time() - t\n",
    "    print(\"Decoding time for {} iterations and snr = {}: \".format(max_iter,snr),t) \n",
    "    display(HTML('''<img src=\"Images/eye/rgb/snr=6/iterations/eye_iter'''+str(max_iter)+'''.jpg\">'''))\n",
    "print(\"Bit Error Rate in %:\", 100*ldpc_images.BER(rgbeye_bin,ldpc_images.RGB2Bin(rgbeye_decoded_6)),\"%\")"
   ]
  },
  {
   "cell_type": "markdown",
   "metadata": {},
   "source": [
    "One iteration is not enough, but you can increase max_iter to get better decoding."
   ]
  },
  {
   "cell_type": "code",
   "execution_count": 52,
   "metadata": {
    "collapsed": false
   },
   "outputs": [
    {
     "data": {
      "text/html": [
       "<img src=\"Images/eye/rgb/snr=6/rgbeye_compare_decoded_noisy_6.jpg\">"
      ],
      "text/plain": [
       "<IPython.core.display.HTML object>"
      ]
     },
     "metadata": {},
     "output_type": "display_data"
    }
   ],
   "source": [
    "rgbeye_compare_decoded_noisy_6 = np.concatenate((rgbeye_noisy_6[:,:rgbeye.shape[1]],rgbeye_decoded_6),axis=1) \n",
    "cv2.imwrite(\"Images/eye/rgb/snr=6/rgbeye_compare_decoded_noisy_6.jpg\",rgbeye_compare_decoded_noisy_6)\n",
    "display(HTML('''<img src=\"Images/eye/rgb/snr=6/rgbeye_compare_decoded_noisy_6.jpg\">'''))\n"
   ]
  },
  {
   "cell_type": "markdown",
   "metadata": {},
   "source": [
    "# II - Row by row: Large matrices:\n",
    "\n",
    "Imagine you transform each row of an image to a very long binary array. And then code and decode the image row by row. This can't be done (in practice at least) with numpy arrays:\n",
    "- Coding matrix construction takes **A LOT** of time.\n",
    "- Coding and decoding has a quadratic complexity, which will also take **A LOT** of time. \n",
    "\n",
    "To speed calculations with large matrices, <font color=\"blue\"> pyLDPC introduced in v0.7 the use of *scipy.sparse.csr_format*. </font> I made sure to guaratee a sort of backward compatibility with numpy arrays, so wether you use numpy arrays or CSR objects, it doesn't matter: pyLDPC *understands* both. \n",
    "\n",
    "## II - 1 CSR objects: \n",
    "You can create a CSR object of a decoding matrix H by:\n",
    "\n",
    "```python\n",
    "from scipy.sparse import csr_matrix\n",
    "Hs = csr_matrix(H)\n",
    "# You can get the array form back by computing:\n",
    "Harray = Hs.toarray()\n",
    "```\n",
    "That's it. Hs is sort of compressed format *(CSR: compressed storage rows)* where only keys and values of nonzeros elements are stored. This is very efficient when dealing with sparse matrices like parity-check matrices. CSR objects allow faster matrix-vector products, faster matrix-matrix products (which is used in CodingMatrix and CodingMatrix_systematic functions if n is very high). \n",
    "\n",
    "## II - 2 Coding and decoding:\n",
    "\n",
    "### How to construct H and G ?\n",
    "\n",
    "* *This section only covers a practical example of H,G construction, theoritical intuition and details about matrices construction <a href=\"http://nbviewer.jupyter.org/github/janatiH/pyldpc/blob/master/pyLDPC-Tutorial-Matrices.ipynb?flush_cache=true/\">here </a>*\n",
    "\n",
    "To construct or <font color=\"blue\"> load from the library </font> H and tG, you need to evaluate k, the number of bits per row in your image. \n",
    "In this example: \n",
    "\n",
    "<img src=\"Images/eye.png\">\n",
    "\n",
    "The grayscale image has a shape 128x128. Since each pixel is an 8 bits array, the image has 128x8 = 1024 bits per row.\n",
    "\n",
    "If I want a code of rate k/n approximately equal to 1/3, I'll have to\n",
    "\n",
    "1- fix dv and dc so that ** 1 - dv/dc = 1/3.** Knowing that the quality of decoding is better the less H has nonzeros elements, dv and dc must be as low as possible: **dc = 3, dv=2. **\n",
    "2- try n = 3k, n = 3k - dc, n = 3k - 2dc .. until you find k = 1024. \n",
    "\n",
    "This trick, as lame as it looks like, is not that bad: \n",
    "\n",
    "- For Rate = 1/3: apply n = 3k - 3 \n",
    "- For Rate = 1/4: apply n = 4k - 8 \n",
    "\n",
    "It actually works! "
   ]
  },
  {
   "cell_type": "code",
   "execution_count": 39,
   "metadata": {
    "collapsed": false
   },
   "outputs": [
    {
     "data": {
      "text/plain": [
       "(3069, 1024)"
      ]
     },
     "execution_count": 39,
     "metadata": {},
     "output_type": "execute_result"
    }
   ],
   "source": [
    "d_c,d_v = 3,2\n",
    "n = 1024*3 - 3 \n",
    "H = pyldpc.RegularH(n,d_v,d_c)\n",
    "H,tG = pyldpc.CodingMatrix_systematic(H)\n",
    "tG.shape"
   ]
  },
  {
   "cell_type": "markdown",
   "metadata": {},
   "source": [
    "Indeed ! k = 1024. Now, put matrices in CSR format: "
   ]
  },
  {
   "cell_type": "code",
   "execution_count": 40,
   "metadata": {
    "collapsed": true
   },
   "outputs": [],
   "source": [
    "from scipy.sparse import csr_matrix\n",
    "Hs, tGs = csr_matrix(H),csr_matrix(tG)"
   ]
  },
  {
   "cell_type": "markdown",
   "metadata": {},
   "source": [
    "Let's code the grayscale image using the <font color=\"blue\"> new function ImageCoding_rowbyrow </font>.\n",
    "\n",
    "### Coding:"
   ]
  },
  {
   "cell_type": "code",
   "execution_count": 42,
   "metadata": {
    "collapsed": false
   },
   "outputs": [],
   "source": [
    "code = 1\n",
    "\n",
    "if code:\n",
    "    snr = 6\n",
    "    eye_coded_6r,eye_noisy_6r = ldpc_images.ImageCoding_rowbyrow(tGs,eye_bin,snr)\n",
    "\n",
    "    ## Save the image locally: \n",
    "    cv2.imwrite(\"Images/eye/grayscale/snr=6/eye_noisyr.jpg\",eye_noisy_6r)\n"
   ]
  },
  {
   "cell_type": "code",
   "execution_count": 43,
   "metadata": {
    "collapsed": false
   },
   "outputs": [
    {
     "data": {
      "text/html": [
       "<img src=\"Images/eye/grayscale/snr=6/eye_noisyr.jpg\">"
      ],
      "text/plain": [
       "<IPython.core.display.HTML object>"
      ]
     },
     "metadata": {},
     "output_type": "display_data"
    }
   ],
   "source": [
    "display(HTML('''<img src=\"Images/eye/grayscale/snr=6/eye_noisyr.jpg\">'''))\n"
   ]
  },
  {
   "cell_type": "markdown",
   "metadata": {},
   "source": [
    "### Decoding full-log BP: \n"
   ]
  },
  {
   "cell_type": "code",
   "execution_count": 44,
   "metadata": {
    "collapsed": false
   },
   "outputs": [
    {
     "name": "stdout",
     "output_type": "stream",
     "text": [
      "Decoding time for 1 iterations and snr = 6:  22.968536853790283\n"
     ]
    },
    {
     "data": {
      "text/html": [
       "<img src=\"Images/eye/grayscale/snr=6/iterations/eye_iter1.jpg\">"
      ],
      "text/plain": [
       "<IPython.core.display.HTML object>"
      ]
     },
     "metadata": {},
     "output_type": "display_data"
    },
    {
     "name": "stdout",
     "output_type": "stream",
     "text": [
      "Bit Error Rate in %: 0.0823974609375 %\n"
     ]
    }
   ],
   "source": [
    "decode = 1\n",
    "\n",
    "max_iter= 1\n",
    "snr = 6\n",
    "if decode:\n",
    "    t = time()\n",
    "    eye_decoded_6r = ldpc_images.ImageDecoding_rowbyrow(tGs,Hs,eye_coded_6r,snr,max_iter)\n",
    "    cv2.imwrite(\"Images/eye/grayscale/snr=6/iterations/eye_iter\"+str(max_iter)+\".jpg\",eye_decoded_6r)\n",
    "    t = time() - t\n",
    "    print(\"Decoding time for {} iterations and snr = {}: \".format(max_iter,snr),t) \n",
    "    display(HTML('''<img src=\"Images/eye/grayscale/snr=6/iterations/eye_iter'''+str(max_iter)+'''.jpg\">'''))\n",
    "print(\"Bit Error Rate in %:\", 100*ldpc_images.BER(eye_bin,ldpc_images.Gray2Bin(eye_decoded_6r)),\"%\")"
   ]
  },
  {
   "cell_type": "markdown",
   "metadata": {},
   "source": [
    "Let's increase the number of iterations:"
   ]
  },
  {
   "cell_type": "code",
   "execution_count": 45,
   "metadata": {
    "collapsed": false
   },
   "outputs": [
    {
     "name": "stdout",
     "output_type": "stream",
     "text": [
      "Decoding time for 10 iterations and snr = 6:  44.67349100112915\n"
     ]
    },
    {
     "data": {
      "text/html": [
       "<img src=\"Images/eye/grayscale/snr=6/iterations/eye_iter10.jpg\">"
      ],
      "text/plain": [
       "<IPython.core.display.HTML object>"
      ]
     },
     "metadata": {},
     "output_type": "display_data"
    },
    {
     "name": "stdout",
     "output_type": "stream",
     "text": [
      "Bit Error Rate in %: 0.0 %\n"
     ]
    }
   ],
   "source": [
    "decode = 1\n",
    "\n",
    "max_iter= 10\n",
    "snr = 6\n",
    "if decode:\n",
    "    t = time()\n",
    "    eye_decoded_6r = ldpc_images.ImageDecoding_rowbyrow(tGs,Hs,eye_coded_6r,snr,max_iter)\n",
    "    cv2.imwrite(\"Images/eye/grayscale/snr=6/iterations/eye_iter\"+str(max_iter)+\".jpg\",eye_decoded_6r)\n",
    "    t = time() - t\n",
    "    print(\"Decoding time for {} iterations and snr = {}: \".format(max_iter,snr),t) \n",
    "    display(HTML('''<img src=\"Images/eye/grayscale/snr=6/iterations/eye_iter'''+str(max_iter)+'''.jpg\">'''))\n",
    "print(\"Bit Error Rate in %:\", 100*ldpc_images.BER(eye_bin,ldpc_images.Gray2Bin(eye_decoded_6r)),\"%\")"
   ]
  },
  {
   "cell_type": "markdown",
   "metadata": {},
   "source": [
    "Coding RGB images row by row is very similar. Only the number of bits per row changes. Instead of computing k = 8 * pixels/row , compute k = 24*pixels/row. \n",
    "\n",
    "## II - 3 About Matrices construction: \n",
    "\n",
    "When dealing with RGB images, you may have to construct matrices with thousands of rows and columns. That's why, I created a sort of library where I stored some ldpc matrices.\n",
    "\n",
    "- <a href=\"http://nbviewer.jupyter.org/github/janatiH/pyldpc/blob/master/pyLDPC-Tutorial-Matrices.ipynb?flush_cache=true/\"> Matrices Construction details </a>.\n",
    "\n",
    "- <font color=\"red\">work in progress </font> <a href=\"http://nbviewer.jupyter.org/github/janatiH/pyldpc/blob/master/pyLDPC-Library-Matrices.ipynb?flush_cache=true/\"> Matrices Library Access Tutorial </a>.\n",
    "\n",
    "Before constructing any matrices, you should probably check if it's not already created in the library. "
   ]
  },
  {
   "cell_type": "code",
   "execution_count": null,
   "metadata": {
    "collapsed": true
   },
   "outputs": [],
   "source": []
  }
 ],
 "metadata": {
  "kernelspec": {
   "display_name": "Python 3",
   "language": "python",
   "name": "python3"
  },
  "language_info": {
   "codemirror_mode": {
    "name": "ipython",
    "version": 3
   },
   "file_extension": ".py",
   "mimetype": "text/x-python",
   "name": "python",
   "nbconvert_exporter": "python",
   "pygments_lexer": "ipython3",
   "version": "3.4.3"
  }
 },
 "nbformat": 4,
 "nbformat_minor": 0
}
