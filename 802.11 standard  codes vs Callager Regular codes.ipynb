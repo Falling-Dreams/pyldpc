{
 "cells": [
  {
   "cell_type": "code",
   "execution_count": 4,
   "metadata": {
    "collapsed": true
   },
   "outputs": [],
   "source": [
    "import numpy as np\n",
    "import pyldpc\n",
    "import matplotlib.pyplot as plt\n",
    "from fractions import Fraction\n"
   ]
  },
  {
   "cell_type": "markdown",
   "metadata": {},
   "source": [
    "# I - Construction \n",
    "## I - 1 802.11 standard "
   ]
  },
  {
   "cell_type": "code",
   "execution_count": 5,
   "metadata": {
    "collapsed": false
   },
   "outputs": [],
   "source": [
    "Z = 42\n",
    "_M = {}\n",
    "_M[Fraction(1, 2)] = [\n",
    "    [40, 0, 38, 0, 13, 0, 5, 0, 18, 0, 0, 0, 0, 0, 0, 0],\n",
    "    [34, 0, 35, 0, 27, 0, 0, 30, 2, 1, 0, 0, 0, 0, 0, 0],\n",
    "    [0, 36, 0, 31, 0, 7, 0, 34, 0, 10, 41, 0, 0, 0, 0, 0],\n",
    "    [0, 27, 0, 18, 0, 12, 20, 0, 0, 0, 15, 6, 0, 0, 0, 0],\n",
    "    [35, 0, 41, 0, 40, 0, 39, 0, 28, 0, 0, 3, 28, 0, 0, 0],\n",
    "    [29, 0, Z, 0, 0, 22, 0, 4, 0, 28, 0, 27, 0, 23, 0, 0],\n",
    "    [0, 31, 0, 23, 0, 21, 0, 20, 0, 0, 12, 0, 0, Z, 13, 0],\n",
    "    [0, 22, 0, 34, 31, 0, 14, 0, 4, 0, 0, 0, 13, 0, 22, 24],\n",
    "]\n",
    "\n",
    "_M[Fraction(5, 8)] = [\n",
    "    [20, 36, 34, 31, 20, 7, 41, 34, 0, 10, 41, 0, 0, 0, 0, 0],\n",
    "    [30, 27, 0, 18, 0, 12, 20, 14, 2, 25, 15, 6, 0, 0, 0, 0],\n",
    "    [35, 0, 41, 0, 40, 0, 39, 0, 28, 0, 0, 3, 28, 0, 0, 0],\n",
    "    [29, 0, Z, 0, 0, 22, 0, 4, 0, 28, 0, 27, 24, 23, 0, 0],\n",
    "    [0, 31, 0, 23, 0, 21, 0, 20, 0, 9, 12, 0, 0, Z, 13, 0],\n",
    "    [0, 22, 0, 34, 31, 0, 14, 0, 4, 0, 0, 0, 0, 0, 22, 24],\n",
    "]\n",
    "\n",
    "_M[Fraction(3, 4)] = [\n",
    "    [35, 19, 41, 22, 40, 41, 39, 6, 28, 18, 17, 3, 28, 0, 0, 0],\n",
    "    [29, 30, Z, 8, 33, 22, 17, 4, 27, 28, 20, 27, 24, 23, 0, 0],\n",
    "    [37, 31, 18, 23, 11, 21, 6, 20, 32, 9, 12, 29, 0, Z, 13, 0],\n",
    "    [25, 22, 4, 34, 31, 3, 14, 15, 4, 0, 14, 18, 13, 13, 22, 24],\n",
    "]\n",
    "\n",
    "_M[Fraction(13, 16)] = [\n",
    "    [29, 30, Z, 8, 33, 22, 17, 4, 27, 28, 20, 27, 24, 23, 0, 0],\n",
    "    [37, 31, 18, 23, 11, 21, 6, 20, 32, 9, 12, 29, 10, Z, 13, 0],\n",
    "    [25, 22, 4, 34, 31, 3, 14, 15, 4, 2, 14, 18, 13, 13, 22, 24],\n",
    "]\n",
    "\n",
    "E = np.eye(Z)\n",
    "\n",
    "\n",
    "def _convert_row(row, e):\n",
    "    erow = [np.roll(e, i, axis=1) for i in row]\n",
    "    erow = np.hstack(erow)\n",
    "    return erow\n",
    "\n",
    "\n",
    "def _convert_mat(_M, e):\n",
    "    mat = np.vstack([_convert_row(row, e) for row in _M])\n",
    "    return mat\n",
    "\n",
    "\n",
    "H_matrices = {}\n",
    "for k, v in _M.items():\n",
    "    H_matrices[k] = _convert_mat(v, E)\n"
   ]
  },
  {
   "cell_type": "markdown",
   "metadata": {},
   "source": [
    "### Put the matrices in a list of tuples (H,tG):"
   ]
  },
  {
   "cell_type": "code",
   "execution_count": 9,
   "metadata": {
    "collapsed": false
   },
   "outputs": [],
   "source": [
    "H_std = list(H_matrices.values())\n",
    "std = []\n",
    "for H in H_std:\n",
    "    std.append(pyldpc.CodingMatrix_systematic(H))"
   ]
  },
  {
   "cell_type": "markdown",
   "metadata": {},
   "source": [
    "## I - 2 Callager Regular Codes \n",
    "In order to generate regular matrices with the same properties, let's print the shape and number of ones per row/column of the matrices above: "
   ]
  },
  {
   "cell_type": "code",
   "execution_count": 10,
   "metadata": {
    "collapsed": false
   },
   "outputs": [
    {
     "name": "stdout",
     "output_type": "stream",
     "text": [
      "n,k: (672, 343) \n",
      " d_v: 8.0 \n",
      " d_c: 16.0\n",
      "\n",
      "n,k: (672, 425) \n",
      " d_v: 6.0 \n",
      " d_c: 16.0\n",
      "\n",
      "n,k: (672, 507) \n",
      " d_v: 4.0 \n",
      " d_c: 16.0\n",
      "\n",
      "n,k: (672, 548) \n",
      " d_v: 3.0 \n",
      " d_c: 16.0\n",
      "\n"
     ]
    }
   ],
   "source": [
    "for H,tG in std:\n",
    "    print(\"n,k: {} \\n d_v: {} \\n d_c: {}\\n\".format(tG.shape,sum(H)[0],sum(H.T)[0]))"
   ]
  },
  {
   "cell_type": "code",
   "execution_count": 17,
   "metadata": {
    "collapsed": false
   },
   "outputs": [
    {
     "data": {
      "text/plain": [
       "(672, 343)"
      ]
     },
     "execution_count": 17,
     "metadata": {},
     "output_type": "execute_result"
    }
   ],
   "source": [
    "reg = []\n",
    "\n",
    "n = 672\n",
    "d_v = 8\n",
    "d_c = 16\n",
    "H = pyldpc.RegularH(n,d_v,d_c)\n",
    "H,tG = pyldpc.CodingMatrix_systematic(H)\n",
    "reg.append((H,tG))\n",
    "tG.shape "
   ]
  },
  {
   "cell_type": "code",
   "execution_count": 18,
   "metadata": {
    "collapsed": false
   },
   "outputs": [
    {
     "data": {
      "text/plain": [
       "(672, 425)"
      ]
     },
     "execution_count": 18,
     "metadata": {},
     "output_type": "execute_result"
    }
   ],
   "source": [
    "n = 672\n",
    "d_v = 6\n",
    "d_c = 16\n",
    "H = pyldpc.RegularH(n,d_v,d_c)\n",
    "H,tG = pyldpc.CodingMatrix_systematic(H)\n",
    "reg.append((H,tG))\n",
    "\n",
    "tG.shape"
   ]
  },
  {
   "cell_type": "code",
   "execution_count": 19,
   "metadata": {
    "collapsed": false
   },
   "outputs": [
    {
     "data": {
      "text/plain": [
       "(672, 507)"
      ]
     },
     "execution_count": 19,
     "metadata": {},
     "output_type": "execute_result"
    }
   ],
   "source": [
    "n = 672\n",
    "d_v = 4\n",
    "d_c = 16\n",
    "H = pyldpc.RegularH(n,d_v,d_c)\n",
    "H,tG = pyldpc.CodingMatrix_systematic(H)\n",
    "reg.append((H,tG))\n",
    "tG.shape"
   ]
  },
  {
   "cell_type": "code",
   "execution_count": 20,
   "metadata": {
    "collapsed": false
   },
   "outputs": [
    {
     "data": {
      "text/plain": [
       "(672, 548)"
      ]
     },
     "execution_count": 20,
     "metadata": {},
     "output_type": "execute_result"
    }
   ],
   "source": [
    "n = 672\n",
    "d_v = 3\n",
    "d_c = 16\n",
    "H = pyldpc.RegularH(n,d_v,d_c)\n",
    "H,tG = pyldpc.CodingMatrix_systematic(H)\n",
    "reg.append((H,tG))\n",
    "tG.shape"
   ]
  },
  {
   "cell_type": "markdown",
   "metadata": {},
   "source": [
    "### Before any computations, let's make sure our lists of matrices match (in shape): "
   ]
  },
  {
   "cell_type": "code",
   "execution_count": 21,
   "metadata": {
    "collapsed": false
   },
   "outputs": [
    {
     "name": "stdout",
     "output_type": "stream",
     "text": [
      "(672, 343)\n",
      "(672, 425)\n",
      "(672, 507)\n",
      "(672, 548)\n",
      "(672, 343)\n",
      "(672, 425)\n",
      "(672, 507)\n",
      "(672, 548)\n"
     ]
    }
   ],
   "source": [
    "for (H,tG) in reg:\n",
    "    print(tG.shape)\n",
    "for (H,tG) in std:\n",
    "    print(tG.shape)"
   ]
  },
  {
   "cell_type": "markdown",
   "metadata": {},
   "source": [
    "## Simulation, BER calculations"
   ]
  },
  {
   "cell_type": "code",
   "execution_count": 22,
   "metadata": {
    "collapsed": true
   },
   "outputs": [],
   "source": [
    "SNR = [i for i in range(-4,10)]\n",
    "max_iter = 10\n",
    "sample = 50\n",
    "BER_std = [] #List of BER lists- standard codes\n",
    "BER_reg = [] # regular codes "
   ]
  },
  {
   "cell_type": "code",
   "execution_count": 23,
   "metadata": {
    "collapsed": false
   },
   "outputs": [
    {
     "name": "stdout",
     "output_type": "stream",
     "text": [
      "------- \n",
      " number 0.\n",
      "------- \n",
      " number 1.\n",
      "------- \n",
      " number 2.\n",
      "------- \n",
      " number 3.\n"
     ]
    }
   ],
   "source": [
    "for i,(Hstd,tGstd) in enumerate(std):\n",
    "    print(\"------- \\n number {}.\".format(i))\n",
    "    Hreg,tGreg = reg[i] ###the regular matrices correspondant tuple \n",
    "    \n",
    "    n,k = tGstd.shape\n",
    "    BERi_std=[] #BER-list of one curve\n",
    "    BERi_reg=[] \n",
    "    for snr in SNR:\n",
    "        BERj_std=[] #BER-statiscal numbers of one dot\n",
    "        BERj_reg=[]\n",
    "\n",
    "        for j in range(sample):\n",
    "            v = np.random.randint(2,size=k)\n",
    "            \n",
    "            #### STD CODING-DECODING\n",
    "            coded_std = pyldpc.Coding(tGstd,v,snr)\n",
    "            decoded_std = pyldpc.Decoding_logBP(Hstd,coded_std,snr,max_iter)\n",
    "            decoded_std = decoded_std[:k]\n",
    "            BERj_std.append(sum(abs(decoded_std-v))/k)\n",
    "            \n",
    "            #### STD\n",
    "            coded_reg = pyldpc.Coding(tGreg,v,snr)\n",
    "            decoded_reg = pyldpc.Decoding_logBP(Hreg,coded_reg,snr,max_iter)\n",
    "            decoded_reg = decoded_reg[:k]\n",
    "            BERj_reg.append(sum(abs(decoded_reg-v))/k)\n",
    "            \n",
    "        BERi_std.append(sum(BERj_std)/sample)\n",
    "        BERi_reg.append(sum(BERj_reg)/sample)\n",
    "\n",
    "        \n",
    "    BER_std.append(BERi_std)\n",
    "    BER_reg.append(BERi_reg)"
   ]
  },
  {
   "cell_type": "markdown",
   "metadata": {},
   "source": [
    "## PLOTS "
   ]
  },
  {
   "cell_type": "code",
   "execution_count": 31,
   "metadata": {
    "collapsed": true
   },
   "outputs": [],
   "source": [
    "\n",
    "plt.title('Bit Error Rate vs Signal Noise Ratio')\n",
    "plt.plot(SNR, BER_reg[0], 'b--', label='1/2- regular - 10iter')\n",
    "plt.plot(SNR, BER_reg[1], 'k--', label='5/8- regular - 10iter')\n",
    "plt.plot(SNR, BER_reg[2], 'g--', label='3/4- regular - 10iter')\n",
    "plt.plot(SNR, BER_reg[3], 'r--', label='13/16- regular - 10iter')\n",
    "\n",
    "plt.plot(SNR, BER_std[0], 'b', label='1/2- std - 10iter')\n",
    "plt.plot(SNR, BER_std[1], 'k', label='5/8- std - 10iter')\n",
    "plt.plot(SNR, BER_std[2], 'g', label='3/4- std - 10iter')\n",
    "plt.plot(SNR, BER_std[3], 'r', label='13/16- std - 10iter')\n",
    "\n",
    "plt.legend(loc='upper right')\n",
    "plt.xlim([-4,15])\n",
    "\n",
    "plt.yscale('log')\n",
    "plt.grid()\n",
    "plt.xlabel('SNR in db')\n",
    "plt.ylabel('BER')\n",
    "plt.show()\n"
   ]
  },
  {
   "cell_type": "code",
   "execution_count": 35,
   "metadata": {
    "collapsed": true
   },
   "outputs": [],
   "source": [
    "\n",
    "plt.title('Bit Error Rate vs Signal Noise Ratio')\n",
    "\n",
    "\n",
    "plt.plot(SNR, BER_std[0], 'b', label='1/2- std - 10iter')\n",
    "plt.plot(SNR, BER_std[1], 'k', label='5/8- std - 10iter')\n",
    "plt.plot(SNR, BER_std[2], 'g', label='3/4- std - 10iter')\n",
    "plt.plot(SNR, BER_std[3], 'r', label='13/16- std - 10iter')\n",
    "\n",
    "plt.legend(loc='upper right')\n",
    "plt.xlim([-4,10])\n",
    "\n",
    "plt.yscale('log')\n",
    "plt.grid()\n",
    "plt.xlabel('SNR in db')\n",
    "plt.ylabel('BER')\n",
    "plt.show()\n"
   ]
  },
  {
   "cell_type": "code",
   "execution_count": 34,
   "metadata": {
    "collapsed": true
   },
   "outputs": [],
   "source": [
    "\n",
    "plt.title('Bit Error Rate vs Signal Noise Ratio')\n",
    "plt.plot(SNR, BER_reg[0], 'b--', label='1/2- regular - 10iter')\n",
    "plt.plot(SNR, BER_reg[1], 'k--', label='5/8- regular - 10iter')\n",
    "plt.plot(SNR, BER_reg[2], 'g--', label='3/4- regular - 10iter')\n",
    "plt.plot(SNR, BER_reg[3], 'r--', label='13/16- regular - 10iter')\n",
    "\n",
    "\n",
    "\n",
    "plt.legend(loc='upper right')\n",
    "plt.xlim([-4,10])\n",
    "\n",
    "plt.yscale('log')\n",
    "plt.grid()\n",
    "plt.xlabel('SNR in db')\n",
    "plt.ylabel('BER')\n",
    "plt.show()\n"
   ]
  }
 ],
 "metadata": {
  "kernelspec": {
   "display_name": "Python 3",
   "language": "python",
   "name": "python3"
  },
  "language_info": {
   "codemirror_mode": {
    "name": "ipython",
    "version": 3
   },
   "file_extension": ".py",
   "mimetype": "text/x-python",
   "name": "python",
   "nbconvert_exporter": "python",
   "pygments_lexer": "ipython3",
   "version": "3.4.3"
  }
 },
 "nbformat": 4,
 "nbformat_minor": 0
}
