{
 "cells": [
  {
   "cell_type": "markdown",
   "metadata": {},
   "source": [
    "<h1 align=\"center\"> pyLDPC Tutorial: Sound </h1>\n",
    "\n",
    "## update:  02/25/16 - v.0.7.0\n",
    "\n",
    "<b><font color=\"red\"> Since version 0.7: Coding and decoding functions take tG (Transposed G) instead of G, the coding matrix. Functions that construct it (CodingMatrix and CodingMatrix_systematic) return tG instead of G as well. </font></b> \n",
    "<br> \n",
    "\n",
    "<font color=#0101DF><b> Note: </b> </font> \n",
    "\n",
    " <b> Github doesn't support HTML audio in jupyter's cells, I invite you to open this notebook in <a href=\"http://nbviewer.jupyter.org/github/janatiH/pyldpc/blob/master/pyLDPC-Tutorial-Sound.ipynb?flush_cache=true\"> nbviewer </a> </b> \n",
    "\n",
    "\n",
    "This notebook introduces a user's guide of pyLDPC's sub-module Sound: ldpc_sound.\n",
    "If you would like to know what each function does and go into the construction details, go to <a href=\"http://nbviewer.jupyter.org/github/janatiH/pyldpc/blob/master/pyLDPC-Sound-Construction.ipynb?flush_cache=true/\"> LDPC-Sound Construction Details</a>\n",
    "\n",
    "First, before anyone sets high expectations, keep in mind that most audio files have a sampling rate of <b>44100 Hz.</b> Which means that decoding only one second of a track is the same as decoding an array of 44100 numbers. Each number has an int16 format, which (as you may have seen in the link above) is transformed to a 17 bits binary array. And that's <u><b>a lot</b></u> to code and decode !\n",
    "\n",
    "Usually, <b><font color=#A44057> coding plus 1 iteration of decoding of a 5 seconds-track last for about half an hour ! </font></b>\n",
    "\n",
    "If you want to know why aren't we using low sampling frequencies and make everybody happy, <a href=\"https://en.wikipedia.org/wiki/44,100_Hz\" > this</a> might give you a satisfying answer. (This is a result of <i>Shannon's theroem</i> and I'm not really an expert of the subject ..)\n",
    "\n",
    "In this tutorial, I'll be using <b><u> wav</u></b> audio files because they're easy to read as numpy arrays with <b><u>scipy</u></b>. "
   ]
  },
  {
   "cell_type": "code",
   "execution_count": 1,
   "metadata": {
    "collapsed": false
   },
   "outputs": [],
   "source": [
    "import numpy as np\n",
    "import pyldpc\n",
    "from pyldpc import ldpc_sound\n",
    "from time import time\n",
    "from scipy.io import wavfile"
   ]
  },
  {
   "cell_type": "markdown",
   "metadata": {},
   "source": [
    "## Introduction\n",
    "\n",
    "Let's code/decode a 5 seconds piano track. \n",
    "As mentioned above, coding this file and one iteration of decoding took 30-40mn. If you'd like to impress your friends and collegues by decoding a noisy version of the latest album of Eminem, you would probably have to run the algorithm for <b> days </b>. That's simply because most audio files are recorded with a sampling rate (or frequency if you prefer) of 44.1 kHz. Which means that if you read a wav file with the function <i> wavfile.read() </i> you will get the tuple <i> frequency, array </i>. \n",
    "\n",
    "The array is, as explained above, a series of int16 numbers. Some files contain multiple series of numbers (like the one below). We call them <i> channels </i>. The additional channels are not necessary: they provide a stereo-effect. That's why, we'll code and decode only one channel (they're the same, but with a sort of delay in time, so that the sound seems to be coming from different directions). Here's the first channel for example of out piano track that lasts for 5.33 seconds: \n",
    "<img src=\"Equations/SoundT1.png\">\n",
    "\n",
    "<br>\n",
    "\n",
    "Now you realize how big a very short audio file can be ! Each number is an int16 number which means we'll need 17 bits to binarize it... (remember that an int16 can be negative, so it's included in a 2^16 width segment). \n",
    "\n"
   ]
  },
  {
   "cell_type": "markdown",
   "metadata": {
    "collapsed": true
   },
   "source": [
    "## PHASE  1:  Evaluate decoding time\n",
    "\n",
    "This is important because depending on the coding/decoding matrices you use, decoding time can change substantially. \n",
    "To have an idea about how much time this is going to take, we'll need to read the file first. \n",
    "I chose to use this sample that I found on <a href=\"http://www.freesound.org\"> freesound. </a>\n",
    "\n",
    "<br>\n",
    "\n",
    "<audio controls src=\"Sound/piano/piano.wav\" type=audio/wav> </audio>\n",
    "\n",
    "<br>\n",
    "\n",
    "> ### Step 1 :  Put it in numbers"
   ]
  },
  {
   "cell_type": "code",
   "execution_count": 2,
   "metadata": {
    "collapsed": false
   },
   "outputs": [
    {
     "name": "stdout",
     "output_type": "stream",
     "text": [
      "Frequency: 44100 samples/sec\n",
      "\n",
      "Piano Array:\n",
      " [[   0    0]\n",
      " [   0    0]\n",
      " [   9  766]\n",
      " ..., \n",
      " [2024 3144]\n",
      " [2046 3960]\n",
      " [ -29  -66]]\n",
      "\n",
      "Piano's shape: (235200, 2)\n",
      "\n",
      "Piano's type: int16\n",
      "\n",
      "Piano's duration: 5 seconds.\n"
     ]
    },
    {
     "name": "stderr",
     "output_type": "stream",
     "text": [
      "/Library/Frameworks/Python.framework/Versions/3.4/lib/python3.4/site-packages/scipy-0.17.0-py3.4-macosx-10.6-intel.egg/scipy/io/wavfile.py:221: WavFileWarning: Chunk (non-data) not understood, skipping it.\n",
      "  WavFileWarning)\n"
     ]
    }
   ],
   "source": [
    "freq, piano = wavfile.read(\"Sound/piano/piano.wav\")\n",
    "print(\"Frequency: {} samples/sec\".format(freq))\n",
    "print(\"\\nPiano Array:\\n\",piano)\n",
    "print(\"\\nPiano's shape:\",piano.shape)\n",
    "print(\"\\nPiano's type:\",piano.dtype)\n",
    "print(\"\\nPiano's duration: {} seconds.\".format(round(len(piano)/freq)))"
   ]
  },
  {
   "cell_type": "markdown",
   "metadata": {},
   "source": [
    "So our audio file has a standard 44.1 kHz sampling rate and lasts for 5 seconds. Let's code and decode a very small part of it: let's say <b>11 025 samples</b>, which corresponds exactly to a <b>quarter of a second !</b> \n",
    "\n",
    "This coding & decoding test will give us an idea about how much time decoding the rest of the file would take.\n",
    "\n",
    "> ### Step 2: Generate coding & decoding matrices with k = 17\n",
    "\n",
    "I propose the following combination. Keep in mind that changing the three numbers n, d_v, d_c will change your decoding time. Hence, you must keep the same matrices later on phase two."
   ]
  },
  {
   "cell_type": "code",
   "execution_count": 3,
   "metadata": {
    "collapsed": false
   },
   "outputs": [],
   "source": [
    "test = piano[:freq//4]\n",
    "wavfile.write(\"Sound/piano/test/test.wav\",freq,test)"
   ]
  },
  {
   "cell_type": "markdown",
   "metadata": {},
   "source": [
    "the test file lasts for 250 ms as mentioned above .. there is not much to hear. \n",
    "\n",
    "<br>\n",
    "\n",
    "<audio controls src=\"Sound/piano/test/test.wav\" type=audio/wav> </audio>"
   ]
  },
  {
   "cell_type": "code",
   "execution_count": 4,
   "metadata": {
    "collapsed": false
   },
   "outputs": [
    {
     "data": {
      "text/plain": [
       "17"
      ]
     },
     "execution_count": 4,
     "metadata": {},
     "output_type": "execute_result"
    }
   ],
   "source": [
    "n = 60\n",
    "d_v = 3\n",
    "d_c = 4\n",
    "\n",
    "H = pyldpc.RegularH(n,d_v,d_c) \n",
    "H,tG = pyldpc.CodingMatrix_systematic(H) #Must be systematic to visualize the noisy track \n",
    "k = tG.shape[1]\n",
    "k "
   ]
  },
  {
   "cell_type": "markdown",
   "metadata": {},
   "source": [
    "> ### Step 3: Binarize the sample and code it\n",
    "\n",
    "Binarize the test array with the function:\n",
    "\n",
    "```python\n",
    "ldpc_sound.Audio2Bin (audio array) -> return (audio binary form)\n",
    "```\n",
    "\n",
    "Then code it with the function:\n",
    "\n",
    "```python\n",
    "ldpc_sound.SoundCoding (G coding matrix, audio binary form, snr) -> return (coded audio, noisy audio) \n",
    "```\n",
    "\n",
    "We choose to code it with SNR = 6 decibels (which corresponds to a standard-deviation around 0.45). \n"
   ]
  },
  {
   "cell_type": "code",
   "execution_count": 6,
   "metadata": {
    "collapsed": false
   },
   "outputs": [
    {
     "name": "stdout",
     "output_type": "stream",
     "text": [
      "Coding time of 11025 samples: 0mn 0s\n",
      "\n"
     ]
    }
   ],
   "source": [
    "snr = 6\n",
    "t = time()\n",
    "test_bin = ldpc_sound.Audio2Bin(test) \n",
    "test_coded, test_noisy = ldpc_sound.SoundCoding(tG,test_bin,snr)\n",
    "t = time() - t\n",
    "print(\"Coding time of {} samples: {}mn {}s\\n\".format(len(test), int(t//60),int(t%60)))\n",
    "wavfile.write(\"Sound/piano/test/test_noisy.wav\",freq,test_noisy[:freq//4])"
   ]
  },
  {
   "cell_type": "markdown",
   "metadata": {
    "collapsed": true
   },
   "source": [
    "Here's what the noisy test sounds like:\n",
    "\n",
    "<br>\n",
    "\n",
    "<audio controls src=\"Sound/piano/test/test_noisy.wav\" type=audio/wav></audio>\n",
    "\n",
    "<br>"
   ]
  },
  {
   "cell_type": "markdown",
   "metadata": {
    "collapsed": true
   },
   "source": [
    "> ### Step 4: Decode the coded sample\n",
    "\n",
    "Now decode it with the function:\n",
    "\n",
    "```python\n",
    "ldpc_sound.SoundDecoding\n",
    "```\n",
    "\n",
    "We'll first "
   ]
  },
  {
   "cell_type": "code",
   "execution_count": 7,
   "metadata": {
    "collapsed": false
   },
   "outputs": [
    {
     "name": "stdout",
     "output_type": "stream",
     "text": [
      "Decoding time of 11025 samples and 1 max iterations: 0mn 46s\n",
      "\n",
      "Bit Error Rate in %:  0.0682939842604 %\n"
     ]
    }
   ],
   "source": [
    "max_iter = 1\n",
    "t = time()\n",
    "test_decoded = ldpc_sound.SoundDecoding(tG,H,test_coded,snr,max_iter)\n",
    "t = time() - t \n",
    "wavfile.write(\"Sound/piano/test/test_decoded.wav\",freq,test_decoded)\n",
    "print(\"Decoding time of {} samples and {} max iterations: {}mn {}s\\n\".format(len(test),max_iter, int(t//60),int(t%60)))\n",
    "print(\"Bit Error Rate in %: \",100*ldpc_sound.BER_audio(test_bin,ldpc_sound.Audio2Bin(test_decoded)),\"%\")"
   ]
  },
  {
   "cell_type": "markdown",
   "metadata": {
    "collapsed": true
   },
   "source": [
    "Here's what the decoded test sounds like:\n",
    "\n",
    "<br>\n",
    "\n",
    "<audio controls src=\"Sound/piano/test/test_decoded.wav\" type=audio/wav></audio>\n",
    "\n",
    "<br>\n",
    "\n",
    "We'll need to increase max_iter for a better decoding:"
   ]
  },
  {
   "cell_type": "code",
   "execution_count": 10,
   "metadata": {
    "collapsed": false
   },
   "outputs": [
    {
     "name": "stdout",
     "output_type": "stream",
     "text": [
      "Decoding time of 11025 samples and 10 max iterations: 0mn 49s\n",
      "\n",
      "Bit Error Rate in %:  0.0 %\n"
     ]
    }
   ],
   "source": [
    "max_iter = 10\n",
    "t = time()\n",
    "test_decoded = ldpc_sound.SoundDecoding(tG,H,test_coded,snr,max_iter)\n",
    "t = time() - t \n",
    "wavfile.write(\"Sound/piano/test/test_decoded.wav\",freq,test_decoded)\n",
    "print(\"Decoding time of {} samples and {} max iterations: {}mn {}s\\n\".format(len(test),max_iter, int(t//60),int(t%60)))\n",
    "print(\"Bit Error Rate in %: \",100*ldpc_sound.BER_audio(test_bin,ldpc_sound.Audio2Bin(test_decoded)),\"%\")"
   ]
  },
  {
   "cell_type": "markdown",
   "metadata": {},
   "source": [
    "Let's say coding-decoding <b> one quarter of a second </b> takes <b>1mn</b>. Then coding-decoding <b> one second (44 100 numbers) </b> should take around <b>4-5mn</b>. Decoding the whole 5 seconds track will therefore take <b> 20 mn </b>. Keep in mind that this is an only an estimation that can be effected with the properties of coding and decoding matrices.\n",
    "\n",
    "> You're probably wondering: <b>Why</b> doesn't he code and decode entirely the audio file and just waits for it to be done ? \n",
    "\n",
    "Of course you can do that. I even encourage that for such short audio files. But what if you would like to simulate a transmission of an <b> entire song </b>? It could take days. That's why I prefer to code-encode second by second and then concatenate the audio files as we'll see later. That way, I know what was coded and wasn't coded yet, and more importantly coded and decoded files are locally saved. And I can test whether my Bit Error Rate is satsifying (then I should go on with decoding the rest) or BER is too high (so I'll have to increase max_iter). Besides waiting for a program for hours can make you very uncomfortable: you have no idea whether it's <i>actually working</i> or not. "
   ]
  },
  {
   "cell_type": "markdown",
   "metadata": {},
   "source": [
    "## PHASE 2: Schedule your coding & decoding  ! "
   ]
  },
  {
   "cell_type": "markdown",
   "metadata": {
    "collapsed": true
   },
   "source": [
    "\n",
    "> <h4> Main Idea: </h4> <font color=#A44057><b> The idea I'm trying to express here is, instead of coding and decoding the whole track at once, let's cut it into smaller parts that can be coded & decoded in one or two hours, and for each part, code it & decode it second by second in a loop. The purpose of the loop is to save each 1-second noisy and decoded track. </b></font>\n",
    "\n",
    "\n",
    "### Step 1: Structure your saving folders\n",
    "\n",
    "In this case, we'll have to realize 5 code-decode operations of 8 minutes each. Since the operation only takes 40 mn, we're going to carry out the 5 operations one after another in one loop. In case you would like to code and decode longer tracks, you'll probably need to increase the number of cuts, and repeat the process. \n",
    "\n",
    "I created 3 folders locally in each max_iter=i folder. (For now, max_iter = 1, I'll create more if needed).\n",
    "```python\n",
    "Sound/piano/snr=6\n",
    "                 /max_iter=1\n",
    "                      /samples\n",
    "                      /noisy\n",
    "                      /decoded\n",
    "          /test/\n",
    "            test_decoded.wav\n",
    "            test_noisy.wav\n",
    "            test.wav\n",
    "          piano.wav\n",
    "```\n",
    "The 3 folders above will contain the 1-second tracks: original, noisy and decoded. Then we'll concatenate the files of each folder to get the whole audio file in the three forms. (Except the files in samples, we don't need to gather 1-seconds original tracks since we've got the original wavfile.)\n",
    "\n",
    "We're going to code and decode one second at a time and save noisy and decoded parts. which will give us an idea about how good is decoding is and perhaps anticipate making more decoding iterations by increasing max_iter. \n",
    "\n",
    "### Step 2: Read, binarize the file and measure its duration"
   ]
  },
  {
   "cell_type": "code",
   "execution_count": 11,
   "metadata": {
    "collapsed": false
   },
   "outputs": [
    {
     "name": "stderr",
     "output_type": "stream",
     "text": [
      "/Library/Frameworks/Python.framework/Versions/3.4/lib/python3.4/site-packages/scipy-0.17.0-py3.4-macosx-10.6-intel.egg/scipy/io/wavfile.py:221: WavFileWarning: Chunk (non-data) not understood, skipping it.\n",
      "  WavFileWarning)\n"
     ]
    }
   ],
   "source": [
    "freq, piano = wavfile.read(\"Sound/piano/piano.wav\")\n",
    "length = len(piano)\n",
    "duration = int(length/freq)\n",
    "piano_bin = ldpc_sound.Audio2Bin(piano)"
   ]
  },
  {
   "cell_type": "markdown",
   "metadata": {},
   "source": [
    "Since the whole coding-decoding operation lasts only for 15-20 mn, we can make it all in one loop. Let's see how accurate our decoding is using only 1 iteration of the BP full-log algorithm. \n",
    "\n",
    "We'll simulate a noisy channel with S.N.R = 6 db (<i> Signal Noise Ratio </i>, 6db corresponds to a standard-deviation 0.35 )\n",
    "\n",
    "### Step 3: Code and decode:"
   ]
  },
  {
   "cell_type": "code",
   "execution_count": 13,
   "metadata": {
    "collapsed": false
   },
   "outputs": [
    {
     "name": "stdout",
     "output_type": "stream",
     "text": [
      "Coding time of the second 0: tc = 0mn 2s\n",
      "\n",
      "Decoding time of the second 0 and max iterations =10 : td = 3mn 13s\n",
      "\n",
      "Coding time of the second 1: tc = 0mn 2s\n",
      "\n",
      "Decoding time of the second 1 and max iterations =10 : td = 3mn 0s\n",
      "\n",
      "Coding time of the second 2: tc = 0mn 2s\n",
      "\n",
      "Decoding time of the second 2 and max iterations =10 : td = 2mn 56s\n",
      "\n",
      "Coding time of the second 3: tc = 0mn 2s\n",
      "\n",
      "Decoding time of the second 3 and max iterations =10 : td = 2mn 55s\n",
      "\n",
      "Coding time of the second 4: tc = 0mn 2s\n",
      "\n",
      "Decoding time of the second 4 and max iterations =10 : td = 2mn 54s\n",
      "\n",
      "Coding time of the second 5: tc = 0mn 0s\n",
      "\n",
      "Decoding time of the second 5 and max iterations =10 : td = 0mn 57s\n",
      "\n"
     ]
    }
   ],
   "source": [
    "snr = 6\n",
    "max_iter = 10\n",
    "\n",
    "for second in range(duration+1):\n",
    "    \n",
    "    sample = piano[second*freq:min((second+1)*freq,length-1)]\n",
    "    wavfile.write(\"Sound/piano/snr=\"+str(snr)+\"/max_iter=\"+str(max_iter)+\"/samples/\"+str(second)+\".wav\",freq,sample)\n",
    "    \n",
    "    sample_bin = piano_bin[second*freq:(second+1)*freq]\n",
    "\n",
    "    tc = time()\n",
    "    coded,noisy= ldpc_sound.SoundCoding(tG,sample_bin,snr)\n",
    "    tc = time()-tc\n",
    "    \n",
    "    wavfile.write(\"Sound/piano/snr=\"+str(snr)+\"/max_iter=\"+str(max_iter)+\"/noisy/\"+str(second)+\".wav\",freq,noisy)\n",
    "\n",
    "    print(\"Coding time of the second {}: tc = {}mn {}s\\n\".format(second, int(tc//60),int(tc%60)))\n",
    "\n",
    "    td = time()\n",
    "    decoded = ldpc_sound.SoundDecoding(tG,H,coded,snr,max_iter)   \n",
    "    td = time()-td\n",
    "    \n",
    "    wavfile.write(\"Sound/piano/snr=\"+str(snr)+\"/max_iter=\"+str(max_iter)+\"/decoded/\"+str(second)+\".wav\",freq,decoded)\n",
    "    \n",
    "    print(\"Decoding time of the second {} and max iterations ={} : td = {}mn {}s\\n\".format(second,max_iter, int(td//60),int(td%60)))\n",
    "    \n",
    "    "
   ]
  },
  {
   "cell_type": "markdown",
   "metadata": {
    "collapsed": true
   },
   "source": [
    "### Step 4: Concatenate the 1 second tracks:\n",
    "\n",
    "Now let's concatenate the arrays of each folder:\n",
    "\n",
    "To help you understand the cell below, you need to know that it's os.walk takes a path as an argument and generates the tuple: path, dirs, elements:\n",
    "- path: path of the argument \n",
    "- dirs: list of the folders contained in the argument\n",
    "- elements: list of the files contained in the argument\n",
    "\n",
    "The argument here is <b><u> the folder noisy </u></b> (in the first loop) and <b><u> the folder decoded </u></b> (in the second loop). Only <i> elements </i> is useful to concatenate the wav files of each folder. "
   ]
  },
  {
   "cell_type": "code",
   "execution_count": 14,
   "metadata": {
    "collapsed": false
   },
   "outputs": [],
   "source": [
    "import os \n",
    "folder_source = \"Sound/piano/snr=\"+str(snr)+\"/max_iter=\"+str(max_iter)\n",
    "folder_noisy = folder_source + \"/noisy\"\n",
    "folder_decoded = folder_source + \"/decoded\"\n",
    "\n",
    "piano_noisy = np.array([],dtype=np.int16)\n",
    "for path,dirs,elements in os.walk(folder_noisy):\n",
    "        for track in elements:\n",
    "            if \"wav\" in track.split(\".\") and not \"all\" in track.split(\".\"):\n",
    "                piano_noisy = np.concatenate((piano_noisy,wavfile.read(folder_noisy+\"/\"+track)[1]))\n",
    "\n",
    "wavfile.write(folder_noisy+\"/all.wav\",freq,piano_noisy)\n",
    "\n",
    "piano_decoded = np.array([],dtype=np.int16)\n",
    "for path,dirs,elements  in os.walk(folder_decoded):\n",
    "        for track in elements:\n",
    "            if \"wav\" in track.split(\".\") and not \"all\" in track.split(\".\"):\n",
    "                piano_decoded = np.concatenate((piano_decoded,wavfile.read(folder_decoded+\"/\"+track)[1]))\n",
    "\n",
    "wavfile.write(folder_decoded+\"/all.wav\",freq,piano_decoded)"
   ]
  },
  {
   "cell_type": "markdown",
   "metadata": {},
   "source": [
    "### Step 5: Evaluate the quality of your decoding\n",
    "\n",
    "Let's compute Bit Error Rate using the function \n",
    "\n",
    "```python\n",
    "ldpc_sound.BER_audio\n",
    "```\n",
    "It compares the original binary audio and the binary decoded one bit by bit and returns the probability of error. "
   ]
  },
  {
   "cell_type": "code",
   "execution_count": 15,
   "metadata": {
    "collapsed": false
   },
   "outputs": [
    {
     "name": "stdout",
     "output_type": "stream",
     "text": [
      "Bit Error Rate in %: 7.50300120048e-05 %\n"
     ]
    }
   ],
   "source": [
    "freq_decoded, decoded = wavfile.read(\"Sound/piano/snr=\"+str(snr)+\"/max_iter=\"+str(max_iter)+\"/decoded/all.wav\")\n",
    "decoded_bin = ldpc_sound.Audio2Bin(decoded)\n",
    "piano_bin = ldpc_sound.Audio2Bin(piano[:,0])\n",
    "\n",
    "BER_piano = ldpc_sound.BER_audio(decoded_bin,piano_bin)\n",
    "\n",
    "print(\"Bit Error Rate in %:\",100*BER_piano,\"%\")"
   ]
  },
  {
   "cell_type": "markdown",
   "metadata": {},
   "source": [
    "<h4> Tada ! Our decoding is almost error-free ! No need to add more iterations ! </h4>\n",
    "\n",
    "Let's have a look at our fully concatenated 5-seconds tracks \n",
    "\n",
    "The original track:\n",
    "\n",
    "<audio controls src=\"Sound/piano/piano.wav\" type=audio/wav></audio>\n",
    "\n",
    "The noisy track:\n",
    "\n",
    "<audio controls src=\"Sound/piano/snr=9/max_iter=1/noisy/all.wav\" type=audio/wav></audio>\n",
    "\n",
    "The decoded track:\n",
    "\n",
    "<audio controls src=\"Sound/piano/snr=9/max_iter=1/decoded/all.wav\" type=audio/wav></audio>\n",
    "\n",
    "\n"
   ]
  },
  {
   "cell_type": "markdown",
   "metadata": {},
   "source": [
    "### Step 6: Increase max_iter if needed\n",
    "\n",
    "Depending on the channel model you built (SNR's value) and the quality of decoding you're hoping for, you may probably still have a little noisy sounds (BER > 0) after only one iteration of decoding. Sometimes, usually with small SNRs (less than 6), you may even need to complete hundreds of iterations to get a satisfying results. The idea here is making 2 iterations instead of one won't make a valuable difference. Personally, I increase max_iter like this :\n",
    "1, 15, 50, 100, 200. However, for low values of SNR, perfect decoding may not be possible no matter how you increase the number of iterations: the noise is in this case too loud to re-establish 100% of the information.\n",
    "\n",
    "<font color=#A44057> <h2> Application to songs </h2> </font>\n",
    "\n",
    "As I said before, you can use the same method described in this tutorial by first cutting your 3 minutes track in many (too many) 5 seconds tracks. And then concatenate the whole mess ! You will need to make sure that no file gets overwritten ! \n",
    "\n",
    "As soon as the first song is coded/decoded, an example will be added in this section."
   ]
  },
  {
   "cell_type": "code",
   "execution_count": null,
   "metadata": {
    "collapsed": true
   },
   "outputs": [],
   "source": []
  }
 ],
 "metadata": {
  "kernelspec": {
   "display_name": "Python 3",
   "language": "python",
   "name": "python3"
  },
  "language_info": {
   "codemirror_mode": {
    "name": "ipython",
    "version": 3
   },
   "file_extension": ".py",
   "mimetype": "text/x-python",
   "name": "python",
   "nbconvert_exporter": "python",
   "pygments_lexer": "ipython3",
   "version": "3.4.3"
  }
 },
 "nbformat": 4,
 "nbformat_minor": 0
}
